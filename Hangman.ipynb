{
  "nbformat": 4,
  "nbformat_minor": 0,
  "metadata": {
    "colab": {
      "name": "Hangman.ipynb",
      "provenance": [],
      "authorship_tag": "ABX9TyOCYFaAZlCmDtdNoYwN7wQx",
      "include_colab_link": true
    },
    "kernelspec": {
      "name": "python3",
      "display_name": "Python 3"
    }
  },
  "cells": [
    {
      "cell_type": "markdown",
      "metadata": {
        "id": "view-in-github",
        "colab_type": "text"
      },
      "source": [
        "<a href=\"https://colab.research.google.com/github/hanaforoosh/Hangman/blob/master/Hangman.ipynb\" target=\"_parent\"><img src=\"https://colab.research.google.com/assets/colab-badge.svg\" alt=\"Open In Colab\"/></a>"
      ]
    },
    {
      "cell_type": "markdown",
      "metadata": {
        "id": "pI7BoS0TTdcU",
        "colab_type": "text"
      },
      "source": [
        "# واژگان لغت نامه معین"
      ]
    },
    {
      "cell_type": "code",
      "metadata": {
        "id": "f-nCsBwUGgkS",
        "colab_type": "code",
        "colab": {
          "base_uri": "https://localhost:8080/",
          "height": 202
        },
        "outputId": "c27e89cf-ca8e-42fe-ac97-a0824b38a678"
      },
      "source": [
        "!wget https://raw.githubusercontent.com/hanaforoosh/Hangman/master/Word%20Lists/Moin_dictionary_words.txt\n",
        "words = [word.replace('\\n','') for word in open('Moin_dictionary_words.txt','r').readlines() ]"
      ],
      "execution_count": 1,
      "outputs": [
        {
          "output_type": "stream",
          "text": [
            "--2020-08-22 09:20:24--  https://raw.githubusercontent.com/hanaforoosh/Hangman/master/Word%20Lists/Moin_dictionary_words.txt\n",
            "Resolving raw.githubusercontent.com (raw.githubusercontent.com)... 151.101.0.133, 151.101.64.133, 151.101.128.133, ...\n",
            "Connecting to raw.githubusercontent.com (raw.githubusercontent.com)|151.101.0.133|:443... connected.\n",
            "HTTP request sent, awaiting response... 200 OK\n",
            "Length: 297759 (291K) [text/plain]\n",
            "Saving to: ‘Moin_dictionary_words.txt.1’\n",
            "\n",
            "\r          Moin_dict   0%[                    ]       0  --.-KB/s               \rMoin_dictionary_wor 100%[===================>] 290.78K  --.-KB/s    in 0.05s   \n",
            "\n",
            "2020-08-22 09:20:24 (5.29 MB/s) - ‘Moin_dictionary_words.txt.1’ saved [297759/297759]\n",
            "\n"
          ],
          "name": "stdout"
        }
      ]
    },
    {
      "cell_type": "markdown",
      "metadata": {
        "id": "Acg--4nKTryI",
        "colab_type": "text"
      },
      "source": [
        "# واژگان برگزیده"
      ]
    },
    {
      "cell_type": "code",
      "metadata": {
        "id": "Cd636bhMJMcJ",
        "colab_type": "code",
        "colab": {
          "base_uri": "https://localhost:8080/",
          "height": 202
        },
        "outputId": "6b825e79-d4f5-4d91-a1b5-6c0b8a0403d9"
      },
      "source": [
        "!wget https://raw.githubusercontent.com/hanaforoosh/Hangman/master/Word%20Lists/List1.txt\n",
        "words = [word.replace('\\n','') for word in open('List1.txt','r').readlines() ]"
      ],
      "execution_count": 2,
      "outputs": [
        {
          "output_type": "stream",
          "text": [
            "--2020-08-22 09:20:29--  https://raw.githubusercontent.com/hanaforoosh/Hangman/master/Word%20Lists/List1.txt\n",
            "Resolving raw.githubusercontent.com (raw.githubusercontent.com)... 151.101.0.133, 151.101.64.133, 151.101.128.133, ...\n",
            "Connecting to raw.githubusercontent.com (raw.githubusercontent.com)|151.101.0.133|:443... connected.\n",
            "HTTP request sent, awaiting response... 200 OK\n",
            "Length: 164 [text/plain]\n",
            "Saving to: ‘List1.txt.1’\n",
            "\n",
            "\rList1.txt.1           0%[                    ]       0  --.-KB/s               \rList1.txt.1         100%[===================>]     164  --.-KB/s    in 0s      \n",
            "\n",
            "2020-08-22 09:20:29 (6.32 MB/s) - ‘List1.txt.1’ saved [164/164]\n",
            "\n"
          ],
          "name": "stdout"
        }
      ]
    },
    {
      "cell_type": "markdown",
      "metadata": {
        "id": "e6FGrJoaT4VI",
        "colab_type": "text"
      },
      "source": [
        "# بازی حلق آویز"
      ]
    },
    {
      "cell_type": "code",
      "metadata": {
        "id": "D7v6ni2wKWrj",
        "colab_type": "code",
        "colab": {
          "base_uri": "https://localhost:8080/",
          "height": 84
        },
        "outputId": "8f420fb8-31ae-4f89-ed0f-6d9657c0ebf2"
      },
      "source": [
        "import random\n",
        "from IPython.display import clear_output\n",
        "while(str(input(u'\\u202B'+'آماده شروع؟ بله / [نه]'))=='بله'):\n",
        "  word = random.choice(words)\n",
        "  guessed =[]\n",
        "  lives = len(word)\n",
        "  while(lives>0):\n",
        "    clear_output(wait=True)\n",
        "    print(u'\\u202B'+'جون =',lives)\n",
        "    state=''\n",
        "    for letter in word:\n",
        "      if letter in guessed:\n",
        "        state+=letter\n",
        "      else:\n",
        "        state+='-'\n",
        "    print(u'\\u202B'+state)\n",
        "    if state == word:\n",
        "      break\n",
        "    guess = str(input(u'\\u202B'+'حدست چیه؟ '))\n",
        "    if guess not in list(set(word).union(set(guessed))):\n",
        "      lives-=1\n",
        "    guessed.append(guess)\n",
        "  if state ==word:\n",
        "    print(u'\\u202B'+'هورا بردی!')\n",
        "  else:\n",
        "    print(u'\\u202B'+'باختی!')\n",
        "    print(u'\\u202B'+word)"
      ],
      "execution_count": 3,
      "outputs": [
        {
          "output_type": "stream",
          "text": [
            "‫جون = 3\n",
            "‫دانه\n",
            "‫هورا بردی!\n",
            "‫آماده شروع؟ بله / [نه]نه\n"
          ],
          "name": "stdout"
        }
      ]
    }
  ]
}